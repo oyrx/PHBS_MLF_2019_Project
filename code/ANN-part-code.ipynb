{
  "nbformat": 4,
  "nbformat_minor": 0,
  "metadata": {
    "colab": {
      "name": "Main.ipynb",
      "provenance": [],
      "collapsed_sections": [],
      "machine_shape": "hm"
    },
    "kernelspec": {
      "name": "python3",
      "display_name": "Python 3"
    },
    "accelerator": "GPU"
  },
  "cells": [
    {
      "cell_type": "markdown",
      "metadata": {
        "id": "sQM6mhU0ImkZ",
        "colab_type": "text"
      },
      "source": [
        "# Hotel Cancellation Prediction - ANN part"
      ]
    },
    {
      "cell_type": "code",
      "metadata": {
        "id": "TKkbaphsL7N2",
        "colab_type": "code",
        "colab": {
          "base_uri": "https://localhost:8080/",
          "height": 71
        },
        "outputId": "fe68cf12-a703-4e05-cd88-7551d1868d98"
      },
      "source": [
        "from google.colab import drive\n",
        "import os\n",
        "import time\n",
        "import numpy as np\n",
        "import pandas as pd\n",
        "import matplotlib.pyplot as plt\n",
        "import seaborn as sns\n",
        "import torch\n",
        "import torch.nn as nn\n",
        "from torch.utils.data import DataLoader, Dataset\n",
        "from sklearn.preprocessing import OneHotEncoder\n",
        "from sklearn.model_selection import train_test_split\n",
        "from sklearn.metrics import classification_report, confusion_matrix\n",
        "from sklearn.ensemble import RandomForestClassifier\n",
        "from sklearn.model_selection import GridSearchCV\n",
        "\n",
        "sns.set(style=\"darkgrid\")"
      ],
      "execution_count": 1,
      "outputs": [
        {
          "output_type": "stream",
          "text": [
            "/usr/local/lib/python3.6/dist-packages/statsmodels/tools/_testing.py:19: FutureWarning: pandas.util.testing is deprecated. Use the functions in the public API at pandas.testing instead.\n",
            "  import pandas.util.testing as tm\n"
          ],
          "name": "stderr"
        }
      ]
    },
    {
      "cell_type": "code",
      "metadata": {
        "id": "jaaGU6KTgCnl",
        "colab_type": "code",
        "outputId": "997a56ba-72ab-4af8-f90c-8505a96ee8c9",
        "colab": {
          "base_uri": "https://localhost:8080/",
          "height": 123
        }
      },
      "source": [
        "drive.mount('/content/myDrive')"
      ],
      "execution_count": 2,
      "outputs": [
        {
          "output_type": "stream",
          "text": [
            "Go to this URL in a browser: https://accounts.google.com/o/oauth2/auth?client_id=947318989803-6bn6qk8qdgf4n4g3pfee6491hc0brc4i.apps.googleusercontent.com&redirect_uri=urn%3aietf%3awg%3aoauth%3a2.0%3aoob&response_type=code&scope=email%20https%3a%2f%2fwww.googleapis.com%2fauth%2fdocs.test%20https%3a%2f%2fwww.googleapis.com%2fauth%2fdrive%20https%3a%2f%2fwww.googleapis.com%2fauth%2fdrive.photos.readonly%20https%3a%2f%2fwww.googleapis.com%2fauth%2fpeopleapi.readonly\n",
            "\n",
            "Enter your authorization code:\n",
            "··········\n",
            "Mounted at /content/myDrive\n"
          ],
          "name": "stdout"
        }
      ]
    },
    {
      "cell_type": "markdown",
      "metadata": {
        "id": "Un5TBbbPL00x",
        "colab_type": "text"
      },
      "source": [
        "## 1. Read Data"
      ]
    },
    {
      "cell_type": "code",
      "metadata": {
        "id": "X59vf9LnL3Aw",
        "colab_type": "code",
        "outputId": "87563988-0dbc-4d64-9c13-d5716fb676af",
        "colab": {
          "base_uri": "https://localhost:8080/",
          "height": 34
        }
      },
      "source": [
        "############ Path Settings ############\n",
        "data_path      = \"/content/myDrive/My Drive/Hotel_Cancellation/data\"\n",
        "#######################################\n",
        "\n",
        "df             = pd.read_csv(os.path.join(data_path, \"hotel_bookings.csv\"))\n",
        "df_train_all   = pd.read_csv(os.path.join(data_path, \"train.csv\"))\n",
        "df_test        = pd.read_csv(os.path.join(data_path, \"test.csv\"))\n",
        "\n",
        "X_test_df      = df_test.iloc[:, :-1]\n",
        "y_test         = df_test.iloc[:, -1].values\n",
        "\n",
        "X_train_all_df = df_train_all.iloc[:, :-1]\n",
        "y_train_all    = df_train_all.iloc[:, -1].values\n",
        "\n",
        "X_train, X_val, y_train, y_val = train_test_split(X_train_all_df.values, y_train_all, test_size=0.25, stratify=y_train_all, random_state=1126)\n",
        "\n",
        "X_train_df     = pd.DataFrame(X_train, columns=X_train_all_df.columns)\n",
        "\n",
        "X_val_df       = pd.DataFrame(X_val, columns=X_train_all_df.columns)\n",
        "\n",
        "print(X_train_df.values.shape, X_val_df.values.shape, X_test_df.values.shape)"
      ],
      "execution_count": 3,
      "outputs": [
        {
          "output_type": "stream",
          "text": [
            "(71634, 28) (23878, 28) (23878, 28)\n"
          ],
          "name": "stdout"
        }
      ]
    },
    {
      "cell_type": "markdown",
      "metadata": {
        "id": "48oC8pJnMhTb",
        "colab_type": "text"
      },
      "source": [
        "## 2. Preprocessing"
      ]
    },
    {
      "cell_type": "code",
      "metadata": {
        "id": "OyC3px0qPqF1",
        "colab_type": "code",
        "outputId": "c53cafd9-2bf4-4dd8-afe8-04a93d1ce8de",
        "colab": {
          "base_uri": "https://localhost:8080/",
          "height": 51
        }
      },
      "source": [
        "col_cat = ['hotel', 'meal', 'country', 'market_segment', 'distribution_channel', 'is_repeated_guest', \n",
        "           'reserved_room_type', 'assigned_room_type', 'deposit_type', 'agent', 'company', 'customer_type']\n",
        "col_ord = ['arrival_date_month', 'arrival_date_week_number', 'arrival_date_day_of_month']\n",
        "col_num = ['lead_time', 'stays_in_weekend_nights', 'stays_in_week_nights', 'adults', 'children', 'babies', \n",
        "           'previous_cancellations','previous_bookings_not_canceled', 'booking_changes', 'days_in_waiting_list',\n",
        "           'adr', 'required_car_parking_spaces', 'total_of_special_requests']\n",
        "\n",
        "all_categorical_cols = col_cat + col_ord\n",
        "\n",
        "oh = OneHotEncoder(sparse=False, handle_unknown=\"ignore\")\n",
        "oh.fit(df[all_categorical_cols].astype(\"str\").values)\n",
        "\n",
        "X_train = np.concatenate([X_train_df[col_num].values, oh.transform(X_train_df[all_categorical_cols].astype(\"str\").values)], axis=1)\n",
        "X_val   = np.concatenate([X_val_df[col_num].values  , oh.transform(X_val_df[all_categorical_cols].astype(\"str\").values)], axis=1)\n",
        "X_test  = np.concatenate([X_test_df[col_num].values , oh.transform(X_test_df[all_categorical_cols].astype(\"str\").values)], axis=1)\n",
        "\n",
        "X_train = X_train.astype(np.float32)\n",
        "X_val   = X_val.astype(np.float32)\n",
        "X_test  = X_test.astype(np.float32)\n",
        "\n",
        "print(X_train_df.values.shape, X_val_df.values.shape, X_test_df.values.shape)\n",
        "print(X_train.shape, X_val.shape, X_test.shape)"
      ],
      "execution_count": 4,
      "outputs": [
        {
          "output_type": "stream",
          "text": [
            "(71634, 28) (23878, 28) (23878, 28)\n",
            "(71634, 1025) (23878, 1025) (23878, 1025)\n"
          ],
          "name": "stdout"
        }
      ]
    },
    {
      "cell_type": "code",
      "metadata": {
        "id": "0EqaOxVFbB-r",
        "colab_type": "code",
        "colab": {}
      },
      "source": [
        "class HotelDataset(Dataset):\n",
        "    def __init__(self, x, y=None):\n",
        "        self.x = x\n",
        "        self.y = y\n",
        "        if y is not None:\n",
        "            self.y = torch.LongTensor(y)\n",
        "    def __len__(self):\n",
        "        return len(self.x)\n",
        "    def __getitem__(self, index):\n",
        "        X = self.x[index]\n",
        "        if self.y is not None:\n",
        "            Y = self.y[index]\n",
        "            return X, Y\n",
        "        else:\n",
        "            return X\n",
        "\n",
        "batch_size   = 6000\n",
        "\n",
        "train_set    = HotelDataset(X_train, y_train)\n",
        "train_loader = DataLoader(train_set, batch_size=batch_size, shuffle=True)\n",
        "\n",
        "val_set      = HotelDataset(X_val, y_val)\n",
        "val_loader   = DataLoader(val_set, batch_size=batch_size, shuffle=False)\n",
        "\n",
        "test_set     = HotelDataset(X_test, y_test)\n",
        "test_loader  = DataLoader(test_set, batch_size=batch_size, shuffle=False)"
      ],
      "execution_count": 0,
      "outputs": []
    },
    {
      "cell_type": "markdown",
      "metadata": {
        "id": "sDX5tGRPanzW",
        "colab_type": "text"
      },
      "source": [
        "## 3. Modeling"
      ]
    },
    {
      "cell_type": "code",
      "metadata": {
        "id": "OUDMHMdKCmOs",
        "colab_type": "code",
        "colab": {}
      },
      "source": [
        "class Classifier(nn.Module):\n",
        "    \"\"\"\n",
        "    Parameters:\n",
        "        name     : model name\n",
        "        input_dim: dimension of input\n",
        "        act_func : type of activation function - \"sigmoid\", \"tanh\", \"relu\"\n",
        "        dr       : dropout rate\n",
        "    The network structure is fixed, containing 5 hidden layers:\n",
        "        input_dim → 1000 → 500 → 250 →100 → 20 → 2\n",
        "    \"\"\"\n",
        "    def __init__(self, name, input_dim, act_func=\"sigmoid\", dr=0.5):\n",
        "        super(Classifier, self).__init__()\n",
        "        self.name      = name\n",
        "        self.input_dim = input_dim\n",
        "        self.act_func  = act_func\n",
        "        self.dr        = dr\n",
        "        if act_func==\"sigmoid\":\n",
        "            act_func_f = \"nn.Sigmoid()\"\n",
        "        elif act_func==\"tanh\":\n",
        "            act_func_f = \"nn.Tanh()\"\n",
        "        elif act_func==\"relu\":\n",
        "            act_func_f = \"nn.ReLU()\"\n",
        "        else:\n",
        "            raise Exception\n",
        "        self.fc = nn.Sequential(\n",
        "            #################\n",
        "            nn.Linear(input_dim, 1000),\n",
        "            nn.BatchNorm1d(1000),\n",
        "            nn.Dropout(p=dr),\n",
        "            eval(act_func_f),\n",
        "            #################\n",
        "            nn.Linear(1000, 500),\n",
        "            nn.BatchNorm1d(500),\n",
        "            nn.Dropout(p=dr),\n",
        "            eval(act_func_f),\n",
        "            #################\n",
        "            nn.Linear(500, 250),\n",
        "            nn.BatchNorm1d(250),\n",
        "            nn.Dropout(p=dr),\n",
        "            eval(act_func_f),\n",
        "            #################\n",
        "            nn.Linear(250, 100),\n",
        "            nn.BatchNorm1d(100),\n",
        "            nn.Dropout(p=dr),\n",
        "            eval(act_func_f),\n",
        "            #################\n",
        "            nn.Linear(100, 20),\n",
        "            nn.BatchNorm1d(20),\n",
        "            nn.Dropout(p=dr),\n",
        "            eval(act_func_f),\n",
        "            #################\n",
        "            nn.Linear(20, 2),\n",
        "        )\n",
        "    def forward(self, x):\n",
        "        return self.fc(x)"
      ],
      "execution_count": 0,
      "outputs": []
    },
    {
      "cell_type": "code",
      "metadata": {
        "id": "6gl1LXRDMtDI",
        "colab_type": "code",
        "colab": {}
      },
      "source": [
        "def trigger_with_early_stopping(train_loader, val_loader, model, loss, optimizer, num_epoch, patience, save_model=False, delta=0, print_log=True):\n",
        "    # Compute some statistics\n",
        "    train_batch_num  = len(train_loader.batch_sampler)\n",
        "    val_batch_num    = len(val_loader.batch_sampler)\n",
        "    train_sample_num = len(train_loader.dataset)\n",
        "    val_sample_num   = len(val_loader.dataset)\n",
        "    # Store the loss/acc info for each epoch\n",
        "    train_acc_list  = []\n",
        "    train_loss_list = []\n",
        "    val_acc_list    = []\n",
        "    val_loss_list   = []\n",
        "    # About early stopping\n",
        "    current_best_val_loss = np.inf\n",
        "    current_that_val_acc  = -np.inf\n",
        "    current_that_epoch    = None\n",
        "    counter               = 0\n",
        "    # Start time\n",
        "    total_time_start = time.time()\n",
        "    # Logging\n",
        "    print(\"*************************************************************************************\")\n",
        "    print(\"[Model: %s] | [Act_func: %s] | [LR: %s] | [DR: %s]\" % (model.name, model.act_func, optimizer.state_dict()[\"param_groups\"][0][\"lr\"], model.dr))\n",
        "    \n",
        "    for epoch in range(num_epoch):\n",
        "        epoch_start_time = time.time()\n",
        "        train_acc        = 0.0\n",
        "        train_loss       = 0.0\n",
        "        val_acc          = 0.0\n",
        "        val_loss         = 0.0\n",
        "\n",
        "        model.train()\n",
        "        for i, data in enumerate(train_loader):\n",
        "            x = data[0].float()\n",
        "            y = data[1]\n",
        "            optimizer.zero_grad()\n",
        "            train_pred = model(x.cuda())\n",
        "            batch_loss = loss(train_pred, y.cuda())\n",
        "            batch_loss.backward()\n",
        "            optimizer.step()\n",
        "            pre_label   = np.argmax(train_pred.cpu().data.numpy(), axis=1)\n",
        "            train_acc  += np.sum(pre_label == y.numpy())\n",
        "            train_loss += batch_loss.item()\n",
        "        \n",
        "        model.eval()\n",
        "        with torch.no_grad():\n",
        "            for i, data in enumerate(val_loader):\n",
        "                x = data[0].float()\n",
        "                y = data[1]\n",
        "                val_pred   = model(x.cuda())\n",
        "                batch_loss = loss(val_pred, y.cuda())\n",
        "                pre_label  = np.argmax(val_pred.cpu().data.numpy(), axis=1)\n",
        "                val_acc   += np.sum(pre_label == y.numpy())\n",
        "                val_loss  += batch_loss.item()\n",
        "\n",
        "            train_acc        = train_acc/train_sample_num\n",
        "            train_loss       = train_loss/train_batch_num\n",
        "            val_acc          = val_acc/val_sample_num\n",
        "            val_loss         = val_loss/val_batch_num\n",
        "\n",
        "            train_acc_list.append(train_acc)\n",
        "            train_loss_list.append(train_loss)\n",
        "            val_acc_list.append(val_acc)\n",
        "            val_loss_list.append(val_loss)\n",
        "\n",
        "            # if val_acc > current_that_val_acc + delta:\n",
        "            if val_loss < current_best_val_loss - delta:\n",
        "                current_best_val_loss = val_loss\n",
        "                current_that_val_acc  = val_acc\n",
        "                current_that_epoch    = epoch\n",
        "                if save_model:\n",
        "                    torch.save(model.state_dict(), '/content/myDrive/My Drive/Hotel_Cancellation/model/%s.pt' % model.name)\n",
        "                counter = 0\n",
        "            else:\n",
        "                counter += 1\n",
        "                if print_log:\n",
        "                    print('[%03d/%03d] Early-Stopping counter: %s out of %s' % (epoch + 1, num_epoch, counter, patience))\n",
        "                if counter >= patience:\n",
        "                    print(\"[Smallest val loss: %s] | [Corres val acc: %s] | [Epoch num: %s]\" % (current_best_val_loss, current_that_val_acc, current_that_epoch))\n",
        "                    # Stop!!!\n",
        "                    break\n",
        "            if print_log:\n",
        "                print('[%03d/%03d] %2.2f sec(s) Train Acc: %3.6f Loss: %3.6f | Val Acc: %3.6f loss: %3.6f' % \\\n",
        "                    (epoch + 1, num_epoch, time.time()-epoch_start_time, \\\n",
        "                    train_acc, train_loss, val_acc, val_loss))\n",
        "    \n",
        "    total_time_end = time.time()\n",
        "    print(\"Total time: %2.2f sec(s)\" % (total_time_end-total_time_start))\n",
        "    print(\"*************************************************************************************\")\n",
        "    return train_acc_list, train_loss_list, val_acc_list, val_loss_list, current_best_val_loss, current_that_val_acc, current_that_epoch"
      ],
      "execution_count": 0,
      "outputs": []
    },
    {
      "cell_type": "markdown",
      "metadata": {
        "id": "cznjF9f6WEab",
        "colab_type": "text"
      },
      "source": [
        "### 3.1 Neural Network (Demo)"
      ]
    },
    {
      "cell_type": "code",
      "metadata": {
        "id": "JpJpdUuTQKot",
        "colab_type": "code",
        "outputId": "895b9c71-b888-4dc0-e598-d621b2684383",
        "colab": {
          "base_uri": "https://localhost:8080/",
          "height": 34
        }
      },
      "source": [
        "input_dim = train_set[0][0].shape[0]\n",
        "input_dim"
      ],
      "execution_count": 10,
      "outputs": [
        {
          "output_type": "execute_result",
          "data": {
            "text/plain": [
              "1025"
            ]
          },
          "metadata": {
            "tags": []
          },
          "execution_count": 10
        }
      ]
    },
    {
      "cell_type": "code",
      "metadata": {
        "colab_type": "code",
        "id": "CiRL0MLR2IB7",
        "colab": {
          "base_uri": "https://localhost:8080/",
          "height": 1000
        },
        "outputId": "362646e2-4dd7-472f-9fc5-3182d223acac"
      },
      "source": [
        "model_name = \"demo_1\"\n",
        "dr         = 0.0\n",
        "lr         = 0.0001\n",
        "\n",
        "model     = Classifier(model_name, input_dim, \"relu\", dr).cuda()\n",
        "loss      = nn.CrossEntropyLoss()\n",
        "optimizer = torch.optim.Adam(model.parameters(), lr)\n",
        "num_epoch = 500\n",
        "train_acc_list, train_loss_list, val_acc_list, val_loss_list, \\\n",
        "    current_best_val_loss, current_that_val_acc, current_that_epoch \\\n",
        "    = trigger_with_early_stopping(train_loader, val_loader, model, loss, optimizer, num_epoch, patience=20, save_model=False, delta=0)\n",
        "print(\"Smallest val loss is 【%s】. Corresponding val acc is 【%s】\" % (current_best_val_loss, current_that_val_acc))"
      ],
      "execution_count": 11,
      "outputs": [
        {
          "output_type": "stream",
          "text": [
            "*************************************************************************************\n",
            "[Model: demo_1] | [Act_func: relu] | [LR: 0.0001] | [DR: 0.0]\n",
            "[001/500] 2.27 sec(s) Train Acc: 0.624885 Loss: 0.648816 | Val Acc: 0.644317 loss: 0.661112\n",
            "[002/500] 1.91 sec(s) Train Acc: 0.704693 Loss: 0.589367 | Val Acc: 0.702111 loss: 0.636124\n",
            "[003/500] 1.99 sec(s) Train Acc: 0.762529 Loss: 0.542323 | Val Acc: 0.757936 loss: 0.601313\n",
            "[004/500] 1.95 sec(s) Train Acc: 0.797987 Loss: 0.507268 | Val Acc: 0.796549 loss: 0.543901\n",
            "[005/500] 1.92 sec(s) Train Acc: 0.815730 Loss: 0.486635 | Val Acc: 0.810872 loss: 0.505208\n",
            "[006/500] 1.83 sec(s) Train Acc: 0.833975 Loss: 0.465935 | Val Acc: 0.831937 loss: 0.480748\n",
            "[007/500] 1.88 sec(s) Train Acc: 0.839894 Loss: 0.453589 | Val Acc: 0.833026 loss: 0.466544\n",
            "[008/500] 1.91 sec(s) Train Acc: 0.842672 Loss: 0.447486 | Val Acc: 0.835539 loss: 0.462063\n",
            "[009/500] 1.82 sec(s) Train Acc: 0.851411 Loss: 0.435634 | Val Acc: 0.835288 loss: 0.452781\n",
            "[010/500] 1.88 sec(s) Train Acc: 0.854287 Loss: 0.428231 | Val Acc: 0.846344 loss: 0.439501\n",
            "[011/500] 1.89 sec(s) Train Acc: 0.857191 Loss: 0.421685 | Val Acc: 0.838094 loss: 0.436584\n",
            "[012/500] Early-Stopping counter: 1 out of 20\n",
            "[012/500] 1.90 sec(s) Train Acc: 0.857568 Loss: 0.418727 | Val Acc: 0.843496 loss: 0.438274\n",
            "[013/500] 1.81 sec(s) Train Acc: 0.861518 Loss: 0.412005 | Val Acc: 0.835539 loss: 0.429588\n",
            "[014/500] Early-Stopping counter: 1 out of 20\n",
            "[014/500] 1.87 sec(s) Train Acc: 0.860890 Loss: 0.409702 | Val Acc: 0.825153 loss: 0.451855\n",
            "[015/500] 1.89 sec(s) Train Acc: 0.861365 Loss: 0.405729 | Val Acc: 0.851956 loss: 0.413408\n",
            "[016/500] Early-Stopping counter: 1 out of 20\n",
            "[016/500] 1.82 sec(s) Train Acc: 0.865385 Loss: 0.399389 | Val Acc: 0.853715 loss: 0.425348\n",
            "[017/500] Early-Stopping counter: 2 out of 20\n",
            "[017/500] 1.91 sec(s) Train Acc: 0.868331 Loss: 0.392860 | Val Acc: 0.851118 loss: 0.415104\n",
            "[018/500] 1.89 sec(s) Train Acc: 0.870843 Loss: 0.387475 | Val Acc: 0.857484 loss: 0.404199\n",
            "[019/500] Early-Stopping counter: 1 out of 20\n",
            "[019/500] 1.81 sec(s) Train Acc: 0.869629 Loss: 0.385359 | Val Acc: 0.838261 loss: 0.431312\n",
            "[020/500] 1.88 sec(s) Train Acc: 0.869908 Loss: 0.382761 | Val Acc: 0.858154 loss: 0.390295\n",
            "[021/500] Early-Stopping counter: 1 out of 20\n",
            "[021/500] 1.90 sec(s) Train Acc: 0.871402 Loss: 0.379290 | Val Acc: 0.861044 loss: 0.392421\n",
            "[022/500] Early-Stopping counter: 2 out of 20\n",
            "[022/500] 1.91 sec(s) Train Acc: 0.877097 Loss: 0.369544 | Val Acc: 0.851621 loss: 0.406551\n",
            "[023/500] Early-Stopping counter: 3 out of 20\n",
            "[023/500] 1.85 sec(s) Train Acc: 0.875003 Loss: 0.369274 | Val Acc: 0.851286 loss: 0.398182\n",
            "[024/500] 1.90 sec(s) Train Acc: 0.876092 Loss: 0.365655 | Val Acc: 0.857903 loss: 0.379198\n",
            "[025/500] Early-Stopping counter: 1 out of 20\n",
            "[025/500] 1.88 sec(s) Train Acc: 0.878172 Loss: 0.359781 | Val Acc: 0.862426 loss: 0.380239\n",
            "[026/500] Early-Stopping counter: 2 out of 20\n",
            "[026/500] 1.82 sec(s) Train Acc: 0.880685 Loss: 0.354828 | Val Acc: 0.855767 loss: 0.385819\n",
            "[027/500] 1.89 sec(s) Train Acc: 0.877419 Loss: 0.356964 | Val Acc: 0.853338 loss: 0.371878\n",
            "[028/500] Early-Stopping counter: 1 out of 20\n",
            "[028/500] 1.90 sec(s) Train Acc: 0.881704 Loss: 0.351152 | Val Acc: 0.850993 loss: 0.383826\n",
            "[029/500] Early-Stopping counter: 2 out of 20\n",
            "[029/500] 1.90 sec(s) Train Acc: 0.881704 Loss: 0.347770 | Val Acc: 0.857568 loss: 0.377771\n",
            "[030/500] Early-Stopping counter: 3 out of 20\n",
            "[030/500] 1.87 sec(s) Train Acc: 0.884203 Loss: 0.342365 | Val Acc: 0.861504 loss: 0.380262\n",
            "[031/500] Early-Stopping counter: 4 out of 20\n",
            "[031/500] 1.92 sec(s) Train Acc: 0.887204 Loss: 0.337338 | Val Acc: 0.860667 loss: 0.374099\n",
            "[032/500] 1.90 sec(s) Train Acc: 0.886562 Loss: 0.335558 | Val Acc: 0.863808 loss: 0.368795\n",
            "[033/500] 1.83 sec(s) Train Acc: 0.887442 Loss: 0.332228 | Val Acc: 0.854008 loss: 0.367599\n",
            "[034/500] Early-Stopping counter: 1 out of 20\n",
            "[034/500] 1.90 sec(s) Train Acc: 0.886157 Loss: 0.331099 | Val Acc: 0.841863 loss: 0.382480\n",
            "[035/500] Early-Stopping counter: 2 out of 20\n",
            "[035/500] 1.90 sec(s) Train Acc: 0.887470 Loss: 0.327546 | Val Acc: 0.827582 loss: 0.466615\n",
            "[036/500] Early-Stopping counter: 3 out of 20\n",
            "[036/500] 1.90 sec(s) Train Acc: 0.878256 Loss: 0.338305 | Val Acc: 0.843245 loss: 0.376988\n",
            "[037/500] 1.83 sec(s) Train Acc: 0.885320 Loss: 0.330522 | Val Acc: 0.858280 loss: 0.363116\n",
            "[038/500] Early-Stopping counter: 1 out of 20\n",
            "[038/500] 1.88 sec(s) Train Acc: 0.889410 Loss: 0.322240 | Val Acc: 0.860374 loss: 0.365590\n",
            "[039/500] Early-Stopping counter: 2 out of 20\n",
            "[039/500] 1.89 sec(s) Train Acc: 0.891616 Loss: 0.317519 | Val Acc: 0.862174 loss: 0.365430\n",
            "[040/500] 1.85 sec(s) Train Acc: 0.893640 Loss: 0.312102 | Val Acc: 0.859745 loss: 0.350643\n",
            "[041/500] 1.94 sec(s) Train Acc: 0.891630 Loss: 0.312569 | Val Acc: 0.859913 loss: 0.347915\n",
            "[042/500] Early-Stopping counter: 1 out of 20\n",
            "[042/500] 1.91 sec(s) Train Acc: 0.892035 Loss: 0.309972 | Val Acc: 0.861797 loss: 0.353517\n",
            "[043/500] Early-Stopping counter: 2 out of 20\n",
            "[043/500] 1.83 sec(s) Train Acc: 0.896334 Loss: 0.304151 | Val Acc: 0.855599 loss: 0.349311\n",
            "[044/500] Early-Stopping counter: 3 out of 20\n",
            "[044/500] 1.91 sec(s) Train Acc: 0.892844 Loss: 0.306966 | Val Acc: 0.862844 loss: 0.359759\n",
            "[045/500] Early-Stopping counter: 4 out of 20\n",
            "[045/500] 1.91 sec(s) Train Acc: 0.895078 Loss: 0.302281 | Val Acc: 0.859243 loss: 0.367557\n",
            "[046/500] Early-Stopping counter: 5 out of 20\n",
            "[046/500] 1.93 sec(s) Train Acc: 0.896893 Loss: 0.298078 | Val Acc: 0.859368 loss: 0.349586\n",
            "[047/500] 1.89 sec(s) Train Acc: 0.897018 Loss: 0.296815 | Val Acc: 0.868791 loss: 0.344681\n",
            "[048/500] Early-Stopping counter: 1 out of 20\n",
            "[048/500] 1.94 sec(s) Train Acc: 0.893444 Loss: 0.297815 | Val Acc: 0.857191 loss: 0.357249\n",
            "[049/500] Early-Stopping counter: 2 out of 20\n",
            "[049/500] 1.92 sec(s) Train Acc: 0.894771 Loss: 0.297215 | Val Acc: 0.863473 loss: 0.345332\n",
            "[050/500] Early-Stopping counter: 3 out of 20\n",
            "[050/500] 1.83 sec(s) Train Acc: 0.896544 Loss: 0.292970 | Val Acc: 0.860834 loss: 0.346802\n",
            "[051/500] 1.92 sec(s) Train Acc: 0.897046 Loss: 0.290746 | Val Acc: 0.861295 loss: 0.342443\n",
            "[052/500] Early-Stopping counter: 1 out of 20\n",
            "[052/500] 1.91 sec(s) Train Acc: 0.897018 Loss: 0.288927 | Val Acc: 0.849234 loss: 0.382452\n",
            "[053/500] Early-Stopping counter: 2 out of 20\n",
            "[053/500] 1.92 sec(s) Train Acc: 0.897032 Loss: 0.290363 | Val Acc: 0.860918 loss: 0.354288\n",
            "[054/500] 1.85 sec(s) Train Acc: 0.900843 Loss: 0.281820 | Val Acc: 0.864980 loss: 0.332674\n",
            "[055/500] 1.89 sec(s) Train Acc: 0.901709 Loss: 0.278121 | Val Acc: 0.867702 loss: 0.330936\n",
            "[056/500] Early-Stopping counter: 1 out of 20\n",
            "[056/500] 1.89 sec(s) Train Acc: 0.904180 Loss: 0.275219 | Val Acc: 0.866153 loss: 0.342901\n",
            "[057/500] Early-Stopping counter: 2 out of 20\n",
            "[057/500] 1.85 sec(s) Train Acc: 0.903635 Loss: 0.273135 | Val Acc: 0.860457 loss: 0.355771\n",
            "[058/500] Early-Stopping counter: 3 out of 20\n",
            "[058/500] 1.90 sec(s) Train Acc: 0.900410 Loss: 0.277303 | Val Acc: 0.849527 loss: 0.343212\n",
            "[059/500] Early-Stopping counter: 4 out of 20\n",
            "[059/500] 1.89 sec(s) Train Acc: 0.900424 Loss: 0.275342 | Val Acc: 0.857484 loss: 0.353644\n",
            "[060/500] Early-Stopping counter: 5 out of 20\n",
            "[060/500] 1.92 sec(s) Train Acc: 0.904403 Loss: 0.269052 | Val Acc: 0.865609 loss: 0.331646\n",
            "[061/500] 1.84 sec(s) Train Acc: 0.904892 Loss: 0.266599 | Val Acc: 0.863891 loss: 0.330655\n",
            "[062/500] Early-Stopping counter: 1 out of 20\n",
            "[062/500] 1.94 sec(s) Train Acc: 0.904040 Loss: 0.266280 | Val Acc: 0.870299 loss: 0.332006\n",
            "[063/500] Early-Stopping counter: 2 out of 20\n",
            "[063/500] 1.95 sec(s) Train Acc: 0.907097 Loss: 0.262085 | Val Acc: 0.865399 loss: 0.343592\n",
            "[064/500] Early-Stopping counter: 3 out of 20\n",
            "[064/500] 1.84 sec(s) Train Acc: 0.905980 Loss: 0.261883 | Val Acc: 0.861127 loss: 0.337540\n",
            "[065/500] Early-Stopping counter: 4 out of 20\n",
            "[065/500] 1.94 sec(s) Train Acc: 0.908060 Loss: 0.259036 | Val Acc: 0.865650 loss: 0.351166\n",
            "[066/500] Early-Stopping counter: 5 out of 20\n",
            "[066/500] 1.94 sec(s) Train Acc: 0.910559 Loss: 0.253414 | Val Acc: 0.858824 loss: 0.332523\n",
            "[067/500] Early-Stopping counter: 6 out of 20\n",
            "[067/500] 1.86 sec(s) Train Acc: 0.904696 Loss: 0.261448 | Val Acc: 0.861546 loss: 0.354146\n",
            "[068/500] Early-Stopping counter: 7 out of 20\n",
            "[068/500] 1.94 sec(s) Train Acc: 0.904403 Loss: 0.260756 | Val Acc: 0.862844 loss: 0.331871\n",
            "[069/500] Early-Stopping counter: 8 out of 20\n",
            "[069/500] 1.98 sec(s) Train Acc: 0.907223 Loss: 0.255325 | Val Acc: 0.856186 loss: 0.334355\n",
            "[070/500] Early-Stopping counter: 9 out of 20\n",
            "[070/500] 1.95 sec(s) Train Acc: 0.910015 Loss: 0.251368 | Val Acc: 0.854720 loss: 0.357501\n",
            "[071/500] Early-Stopping counter: 10 out of 20\n",
            "[071/500] 1.88 sec(s) Train Acc: 0.910866 Loss: 0.248635 | Val Acc: 0.862258 loss: 0.356741\n",
            "[072/500] Early-Stopping counter: 11 out of 20\n",
            "[072/500] 1.93 sec(s) Train Acc: 0.911592 Loss: 0.246529 | Val Acc: 0.857777 loss: 0.367004\n",
            "[073/500] 1.94 sec(s) Train Acc: 0.910657 Loss: 0.246270 | Val Acc: 0.863138 loss: 0.326157\n",
            "[074/500] Early-Stopping counter: 1 out of 20\n",
            "[074/500] 1.83 sec(s) Train Acc: 0.908940 Loss: 0.247752 | Val Acc: 0.852081 loss: 0.367708\n",
            "[075/500] Early-Stopping counter: 2 out of 20\n",
            "[075/500] 1.96 sec(s) Train Acc: 0.915236 Loss: 0.239600 | Val Acc: 0.861881 loss: 0.359636\n",
            "[076/500] Early-Stopping counter: 3 out of 20\n",
            "[076/500] 1.89 sec(s) Train Acc: 0.910280 Loss: 0.244419 | Val Acc: 0.863891 loss: 0.331963\n",
            "[077/500] Early-Stopping counter: 4 out of 20\n",
            "[077/500] 1.91 sec(s) Train Acc: 0.915459 Loss: 0.236661 | Val Acc: 0.857023 loss: 0.345665\n",
            "[078/500] Early-Stopping counter: 5 out of 20\n",
            "[078/500] 1.83 sec(s) Train Acc: 0.910769 Loss: 0.242275 | Val Acc: 0.851998 loss: 0.349132\n",
            "[079/500] Early-Stopping counter: 6 out of 20\n",
            "[079/500] 1.90 sec(s) Train Acc: 0.914356 Loss: 0.236856 | Val Acc: 0.869880 loss: 0.334541\n",
            "[080/500] Early-Stopping counter: 7 out of 20\n",
            "[080/500] 1.90 sec(s) Train Acc: 0.918139 Loss: 0.231819 | Val Acc: 0.864436 loss: 0.328772\n",
            "[081/500] Early-Stopping counter: 8 out of 20\n",
            "[081/500] 1.85 sec(s) Train Acc: 0.917763 Loss: 0.230214 | Val Acc: 0.868540 loss: 0.329090\n",
            "[082/500] Early-Stopping counter: 9 out of 20\n",
            "[082/500] 1.91 sec(s) Train Acc: 0.918349 Loss: 0.228404 | Val Acc: 0.852751 loss: 0.397866\n",
            "[083/500] Early-Stopping counter: 10 out of 20\n",
            "[083/500] 1.93 sec(s) Train Acc: 0.914356 Loss: 0.232966 | Val Acc: 0.834911 loss: 0.357508\n",
            "[084/500] Early-Stopping counter: 11 out of 20\n",
            "[084/500] 1.94 sec(s) Train Acc: 0.917483 Loss: 0.228676 | Val Acc: 0.864813 loss: 0.330125\n",
            "[085/500] Early-Stopping counter: 12 out of 20\n",
            "[085/500] 1.85 sec(s) Train Acc: 0.915026 Loss: 0.229497 | Val Acc: 0.863054 loss: 0.349237\n",
            "[086/500] 1.93 sec(s) Train Acc: 0.918237 Loss: 0.226630 | Val Acc: 0.870634 loss: 0.320288\n",
            "[087/500] Early-Stopping counter: 1 out of 20\n",
            "[087/500] 1.92 sec(s) Train Acc: 0.917818 Loss: 0.223942 | Val Acc: 0.870550 loss: 0.337693\n",
            "[088/500] Early-Stopping counter: 2 out of 20\n",
            "[088/500] 1.85 sec(s) Train Acc: 0.920792 Loss: 0.219877 | Val Acc: 0.861295 loss: 0.346244\n",
            "[089/500] Early-Stopping counter: 3 out of 20\n",
            "[089/500] 1.92 sec(s) Train Acc: 0.922076 Loss: 0.216944 | Val Acc: 0.855892 loss: 0.363365\n",
            "[090/500] Early-Stopping counter: 4 out of 20\n",
            "[090/500] 1.91 sec(s) Train Acc: 0.912514 Loss: 0.229774 | Val Acc: 0.865692 loss: 0.334361\n",
            "[091/500] Early-Stopping counter: 5 out of 20\n",
            "[091/500] 1.86 sec(s) Train Acc: 0.918698 Loss: 0.221239 | Val Acc: 0.868875 loss: 0.335712\n",
            "[092/500] Early-Stopping counter: 6 out of 20\n",
            "[092/500] 1.90 sec(s) Train Acc: 0.914831 Loss: 0.227955 | Val Acc: 0.869503 loss: 0.339312\n",
            "[093/500] Early-Stopping counter: 7 out of 20\n",
            "[093/500] 1.94 sec(s) Train Acc: 0.916827 Loss: 0.222497 | Val Acc: 0.867744 loss: 0.329057\n",
            "[094/500] Early-Stopping counter: 8 out of 20\n",
            "[094/500] 1.91 sec(s) Train Acc: 0.919507 Loss: 0.217303 | Val Acc: 0.865692 loss: 0.342479\n",
            "[095/500] Early-Stopping counter: 9 out of 20\n",
            "[095/500] 1.88 sec(s) Train Acc: 0.925189 Loss: 0.208769 | Val Acc: 0.860583 loss: 0.324120\n",
            "[096/500] Early-Stopping counter: 10 out of 20\n",
            "[096/500] 1.93 sec(s) Train Acc: 0.925343 Loss: 0.207244 | Val Acc: 0.849359 loss: 0.431359\n",
            "[097/500] Early-Stopping counter: 11 out of 20\n",
            "[097/500] 1.92 sec(s) Train Acc: 0.922635 Loss: 0.209894 | Val Acc: 0.863431 loss: 0.351937\n",
            "[098/500] Early-Stopping counter: 12 out of 20\n",
            "[098/500] 1.87 sec(s) Train Acc: 0.923877 Loss: 0.207661 | Val Acc: 0.863556 loss: 0.329339\n",
            "[099/500] Early-Stopping counter: 13 out of 20\n",
            "[099/500] 1.95 sec(s) Train Acc: 0.926655 Loss: 0.203201 | Val Acc: 0.866069 loss: 0.347100\n",
            "[100/500] Early-Stopping counter: 14 out of 20\n",
            "[100/500] 1.97 sec(s) Train Acc: 0.925217 Loss: 0.205040 | Val Acc: 0.867032 loss: 0.330959\n",
            "[101/500] Early-Stopping counter: 15 out of 20\n",
            "[101/500] 1.93 sec(s) Train Acc: 0.923095 Loss: 0.207246 | Val Acc: 0.866320 loss: 0.324841\n",
            "[102/500] Early-Stopping counter: 16 out of 20\n",
            "[102/500] 1.89 sec(s) Train Acc: 0.927548 Loss: 0.200219 | Val Acc: 0.865692 loss: 0.334418\n",
            "[103/500] Early-Stopping counter: 17 out of 20\n",
            "[103/500] 1.95 sec(s) Train Acc: 0.925496 Loss: 0.201710 | Val Acc: 0.851160 loss: 0.421797\n",
            "[104/500] Early-Stopping counter: 18 out of 20\n",
            "[104/500] 1.92 sec(s) Train Acc: 0.927716 Loss: 0.198165 | Val Acc: 0.867158 loss: 0.365613\n",
            "[105/500] Early-Stopping counter: 19 out of 20\n",
            "[105/500] 1.85 sec(s) Train Acc: 0.925259 Loss: 0.201908 | Val Acc: 0.849275 loss: 0.359308\n",
            "[106/500] Early-Stopping counter: 20 out of 20\n",
            "[Smallest val loss: 0.3202880322933197] | [Corres val acc: 0.8706340564536393] | [Epoch num: 85]\n",
            "Total time: 201.41 sec(s)\n",
            "*************************************************************************************\n",
            "Smallest val loss is 【0.3202880322933197】. Corresponding val acc is 【0.8706340564536393】\n"
          ],
          "name": "stdout"
        }
      ]
    },
    {
      "cell_type": "code",
      "metadata": {
        "id": "boSprZbfr9GK",
        "colab_type": "code",
        "outputId": "5af15921-2f89-4f4a-8257-d9f2a37897f9",
        "colab": {
          "base_uri": "https://localhost:8080/",
          "height": 448
        }
      },
      "source": [
        "print(\"Smallest val loss is 【%s】. Corresponding val acc is 【%s】. Epoch is 【%s】\" % (current_best_val_loss, current_that_val_acc, current_that_epoch))\n",
        "plt.figure(figsize=(15,7))\n",
        "that_epoch = current_that_epoch\n",
        "plt.plot(train_loss_list, label=\"train_loss\");\n",
        "plt.plot(val_loss_list, label=\"val_loss\");\n",
        "plt.plot(that_epoch, train_loss_list[that_epoch], marker='x', color='red', markersize=20)\n",
        "plt.plot(that_epoch, val_loss_list[that_epoch], marker='x', color='red', markersize=20)\n",
        "plt.legend();"
      ],
      "execution_count": 12,
      "outputs": [
        {
          "output_type": "stream",
          "text": [
            "Smallest val loss is 【0.3202880322933197】. Corresponding val acc is 【0.8706340564536393】. Epoch is 【85】\n"
          ],
          "name": "stdout"
        },
        {
          "output_type": "display_data",
          "data": {
            "image/png": "[encoded data removed]",
            "text/plain": [
              "<Figure size 1080x504 with 1 Axes>"
            ]
          },
          "metadata": {
            "tags": [],
            "needs_background": "light"
          }
        }
      ]
    },
    {
      "cell_type": "markdown",
      "metadata": {
        "id": "kzgr_BTayo76",
        "colab_type": "text"
      },
      "source": [
        "### 3.2 Hyperparameter Optimization (Too slow)"
      ]
    },
    {
      "cell_type": "markdown",
      "metadata": {
        "id": "HpkXbuwfywhz",
        "colab_type": "text"
      },
      "source": [
        "> This part needs a lot of time. So we just show the results.\n",
        "\n",
        "Method: Random search\n",
        "\n",
        "Parameters need to tune:\n",
        "* learning rate for Adam: `[0.005,0.05]`\n",
        "* activation function: sigmoid, ReLU, tanh\n",
        "* dropout:`[0.2, 0.8]`"
      ]
    },
    {
      "cell_type": "code",
      "metadata": {
        "id": "k1xSp12wY35Y",
        "colab_type": "code",
        "colab": {}
      },
      "source": [
        "input_dim = train_set[0][0].shape[0]\n",
        "\n",
        "each_how_many = 40\n",
        "total_info = []\n",
        "\n",
        "\n",
        "for act_func in [\"sigmoid\", \"tanh\", \"relu\"]:\n",
        "    for i in range(each_how_many):\n",
        "        model_name    = \"Model_%s_%s\" % (act_func, str(i))\n",
        "        lr            = 0.005+(0.05-0.005)*np.random.random()\n",
        "        drop_out_rate = 0.2+(0.8-0.2)*np.random.random()\n",
        "        \n",
        "        model     = Classifier(name=model_name, input_dim=input_dim, act_func=act_func, dr=drop_out_rate).cuda()\n",
        "        loss      = nn.CrossEntropyLoss()\n",
        "        optimizer = torch.optim.Adam(model.parameters(), lr=lr)\n",
        "        num_epoch = 400\n",
        "        TAL, TLL, VAL, VLL, current_best_val_loss, current_that_val_acc, current_that_epoch \\\n",
        "            = trigger_with_early_stopping(train_loader, val_loader, model, loss, optimizer, num_epoch, patience=20, save_model=False, delta=0.001, print_log=False)\n",
        "\n",
        "        info = (model_name, lr, drop_out_rate, act_func, current_best_val_loss, current_that_val_acc, current_that_epoch)\n",
        "        total_info.append(info)"
      ],
      "execution_count": 0,
      "outputs": []
    },
    {
      "cell_type": "code",
      "metadata": {
        "id": "nIWdoHqTf3Q8",
        "colab_type": "code",
        "outputId": "15a9b197-e4a9-4863-cb1e-9d77214aac29",
        "colab": {
          "base_uri": "https://localhost:8080/",
          "height": 413
        }
      },
      "source": [
        "hyper_opt = pd.DataFrame(total_info, columns=[\"model name\", \"learning rate\", \"dropout rate\", \"activation function\", \"best val loss\", \"corres val acc\", \"that epoch\"])\n",
        "hyper_opt"
      ],
      "execution_count": 0,
      "outputs": [
        {
          "output_type": "execute_result",
          "data": {
            "text/html": [
              "<div>\n",
              "<style scoped>\n",
              "    .dataframe tbody tr th:only-of-type {\n",
              "        vertical-align: middle;\n",
              "    }\n",
              "\n",
              "    .dataframe tbody tr th {\n",
              "        vertical-align: top;\n",
              "    }\n",
              "\n",
              "    .dataframe thead th {\n",
              "        text-align: right;\n",
              "    }\n",
              "</style>\n",
              "<table border=\"1\" class=\"dataframe\">\n",
              "  <thead>\n",
              "    <tr style=\"text-align: right;\">\n",
              "      <th></th>\n",
              "      <th>model name</th>\n",
              "      <th>learning rate</th>\n",
              "      <th>dropout rate</th>\n",
              "      <th>activation function</th>\n",
              "      <th>best val loss</th>\n",
              "      <th>corres val acc</th>\n",
              "      <th>that epoch</th>\n",
              "    </tr>\n",
              "  </thead>\n",
              "  <tbody>\n",
              "    <tr>\n",
              "      <th>0</th>\n",
              "      <td>Model_sigmoid_0</td>\n",
              "      <td>0.012730</td>\n",
              "      <td>0.256399</td>\n",
              "      <td>sigmoid</td>\n",
              "      <td>0.312850</td>\n",
              "      <td>0.855976</td>\n",
              "      <td>23</td>\n",
              "    </tr>\n",
              "    <tr>\n",
              "      <th>1</th>\n",
              "      <td>Model_sigmoid_1</td>\n",
              "      <td>0.025235</td>\n",
              "      <td>0.647295</td>\n",
              "      <td>sigmoid</td>\n",
              "      <td>0.462681</td>\n",
              "      <td>0.849108</td>\n",
              "      <td>51</td>\n",
              "    </tr>\n",
              "    <tr>\n",
              "      <th>2</th>\n",
              "      <td>Model_sigmoid_2</td>\n",
              "      <td>0.042408</td>\n",
              "      <td>0.413867</td>\n",
              "      <td>sigmoid</td>\n",
              "      <td>0.324958</td>\n",
              "      <td>0.857358</td>\n",
              "      <td>28</td>\n",
              "    </tr>\n",
              "    <tr>\n",
              "      <th>3</th>\n",
              "      <td>Model_sigmoid_3</td>\n",
              "      <td>0.029516</td>\n",
              "      <td>0.287871</td>\n",
              "      <td>sigmoid</td>\n",
              "      <td>0.309688</td>\n",
              "      <td>0.859536</td>\n",
              "      <td>26</td>\n",
              "    </tr>\n",
              "    <tr>\n",
              "      <th>4</th>\n",
              "      <td>Model_sigmoid_4</td>\n",
              "      <td>0.013945</td>\n",
              "      <td>0.220688</td>\n",
              "      <td>sigmoid</td>\n",
              "      <td>0.301015</td>\n",
              "      <td>0.870885</td>\n",
              "      <td>41</td>\n",
              "    </tr>\n",
              "    <tr>\n",
              "      <th>...</th>\n",
              "      <td>...</td>\n",
              "      <td>...</td>\n",
              "      <td>...</td>\n",
              "      <td>...</td>\n",
              "      <td>...</td>\n",
              "      <td>...</td>\n",
              "      <td>...</td>\n",
              "    </tr>\n",
              "    <tr>\n",
              "      <th>115</th>\n",
              "      <td>Model_relu_35</td>\n",
              "      <td>0.022794</td>\n",
              "      <td>0.359741</td>\n",
              "      <td>relu</td>\n",
              "      <td>0.291731</td>\n",
              "      <td>0.868289</td>\n",
              "      <td>26</td>\n",
              "    </tr>\n",
              "    <tr>\n",
              "      <th>116</th>\n",
              "      <td>Model_relu_36</td>\n",
              "      <td>0.024379</td>\n",
              "      <td>0.414113</td>\n",
              "      <td>relu</td>\n",
              "      <td>0.290637</td>\n",
              "      <td>0.867451</td>\n",
              "      <td>18</td>\n",
              "    </tr>\n",
              "    <tr>\n",
              "      <th>117</th>\n",
              "      <td>Model_relu_37</td>\n",
              "      <td>0.042861</td>\n",
              "      <td>0.489119</td>\n",
              "      <td>relu</td>\n",
              "      <td>0.293343</td>\n",
              "      <td>0.865818</td>\n",
              "      <td>22</td>\n",
              "    </tr>\n",
              "    <tr>\n",
              "      <th>118</th>\n",
              "      <td>Model_relu_38</td>\n",
              "      <td>0.041216</td>\n",
              "      <td>0.523304</td>\n",
              "      <td>relu</td>\n",
              "      <td>0.288356</td>\n",
              "      <td>0.868373</td>\n",
              "      <td>44</td>\n",
              "    </tr>\n",
              "    <tr>\n",
              "      <th>119</th>\n",
              "      <td>Model_relu_39</td>\n",
              "      <td>0.008303</td>\n",
              "      <td>0.622746</td>\n",
              "      <td>relu</td>\n",
              "      <td>0.289752</td>\n",
              "      <td>0.867996</td>\n",
              "      <td>49</td>\n",
              "    </tr>\n",
              "  </tbody>\n",
              "</table>\n",
              "<p>120 rows × 7 columns</p>\n",
              "</div>"
            ],
            "text/plain": [
              "          model name  learning rate  ...  corres val acc that epoch\n",
              "0    Model_sigmoid_0       0.012730  ...        0.855976         23\n",
              "1    Model_sigmoid_1       0.025235  ...        0.849108         51\n",
              "2    Model_sigmoid_2       0.042408  ...        0.857358         28\n",
              "3    Model_sigmoid_3       0.029516  ...        0.859536         26\n",
              "4    Model_sigmoid_4       0.013945  ...        0.870885         41\n",
              "..               ...            ...  ...             ...        ...\n",
              "115    Model_relu_35       0.022794  ...        0.868289         26\n",
              "116    Model_relu_36       0.024379  ...        0.867451         18\n",
              "117    Model_relu_37       0.042861  ...        0.865818         22\n",
              "118    Model_relu_38       0.041216  ...        0.868373         44\n",
              "119    Model_relu_39       0.008303  ...        0.867996         49\n",
              "\n",
              "[120 rows x 7 columns]"
            ]
          },
          "metadata": {
            "tags": []
          },
          "execution_count": 68
        }
      ]
    },
    {
      "cell_type": "code",
      "metadata": {
        "id": "ZAscKlQMkmq_",
        "colab_type": "code",
        "outputId": "b4ab11ef-3d90-43c0-a306-a3f435248606",
        "colab": {
          "base_uri": "https://localhost:8080/",
          "height": 155
        }
      },
      "source": [
        "hyper_opt.iloc[hyper_opt[\"best val loss\"].argmin()]"
      ],
      "execution_count": 0,
      "outputs": [
        {
          "output_type": "execute_result",
          "data": {
            "text/plain": [
              "model name             Model_relu_34\n",
              "learning rate             0.00867688\n",
              "dropout rate                0.260069\n",
              "activation function             relu\n",
              "best val loss               0.283972\n",
              "corres val acc              0.870927\n",
              "that epoch                        22\n",
              "Name: 114, dtype: object"
            ]
          },
          "metadata": {
            "tags": []
          },
          "execution_count": 127
        }
      ]
    },
    {
      "cell_type": "code",
      "metadata": {
        "id": "oujLvUNogfU5",
        "colab_type": "code",
        "outputId": "3d7b5015-839a-491a-8289-faea7dd2c999",
        "colab": {
          "base_uri": "https://localhost:8080/",
          "height": 611
        }
      },
      "source": [
        "min_val_loss_lr = hyper_opt.iloc[hyper_opt[\"best val loss\"].argmin()][\"learning rate\"]\n",
        "min_val_loss_dr = hyper_opt.iloc[hyper_opt[\"best val loss\"].argmin()][\"dropout rate\"]\n",
        "\n",
        "plt.figure(figsize=(10,10))\n",
        "sns.scatterplot(data=hyper_opt,\n",
        "                x=\"learning rate\", y=\"dropout rate\", hue=\"activation function\",\n",
        "                size=\"best val loss\",\n",
        "                sizes=(40, 400),\n",
        "                );\n",
        "plt.annotate(s=\"Minimum of val loss: 0.283972\\n Act func: ReLU\", xy=(min_val_loss_lr, min_val_loss_dr), \n",
        "             xytext=(min_val_loss_lr-0.005, min_val_loss_dr+0.07),arrowprops={\"arrowstyle\":\"->\", \"color\":\"red\"}) \n",
        "plt.legend(loc=[1, 0]);"
      ],
      "execution_count": 0,
      "outputs": [
        {
          "output_type": "display_data",
          "data": {
            "image/png": "[encoded data removed]",
            "text/plain": [
              "<Figure size 720x720 with 1 Axes>"
            ]
          },
          "metadata": {
            "tags": [],
            "needs_background": "light"
          }
        }
      ]
    },
    {
      "cell_type": "code",
      "metadata": {
        "id": "gz58uAfgn9wz",
        "colab_type": "code",
        "colab": {}
      },
      "source": [
        "hyper_opt.to_csv(\"/content/myDrive/My Drive/Hotel_Cancellation/data/hyperparameter optimization results.csv\", index=None)"
      ],
      "execution_count": 0,
      "outputs": []
    },
    {
      "cell_type": "markdown",
      "metadata": {
        "id": "BYmNYSJ7hVkV",
        "colab_type": "text"
      },
      "source": [
        "Use the best combination to retrain the model on the whole training data (training set + validation set). Then, test it on the testing set."
      ]
    },
    {
      "cell_type": "code",
      "metadata": {
        "id": "UlUHtiSTvD95",
        "colab_type": "code",
        "colab": {}
      },
      "source": [
        "class Classifier_mod(nn.Module):\n",
        "    def __init__(self, name, input_dim, act_func=\"sigmoid\", dr=0.5):\n",
        "        super(Classifier_mod, self).__init__()\n",
        "        self.name      = name\n",
        "        self.input_dim = input_dim\n",
        "        self.act_func  = act_func\n",
        "        self.dr        = dr\n",
        "        if act_func==\"sigmoid\":\n",
        "            act_func_f = \"nn.Sigmoid()\"\n",
        "        elif act_func==\"tanh\":\n",
        "            act_func_f = \"nn.Tanh()\"\n",
        "        elif act_func==\"relu\":\n",
        "            act_func_f = \"nn.ReLU()\"\n",
        "        else:\n",
        "            raise Exception\n",
        "        self.fc1 = nn.Sequential(\n",
        "            #################\n",
        "            nn.Linear(input_dim, 1000),\n",
        "            nn.BatchNorm1d(1000),\n",
        "            nn.Dropout(p=dr),\n",
        "            eval(act_func_f),\n",
        "            #################\n",
        "            nn.Linear(1000, 500),\n",
        "            nn.BatchNorm1d(500),\n",
        "            nn.Dropout(p=dr),\n",
        "            eval(act_func_f),\n",
        "            #################\n",
        "            nn.Linear(500, 250),\n",
        "            nn.BatchNorm1d(250),\n",
        "            nn.Dropout(p=dr),\n",
        "            eval(act_func_f),\n",
        "            #################\n",
        "            nn.Linear(250, 100),\n",
        "            nn.BatchNorm1d(100),\n",
        "            nn.Dropout(p=dr),\n",
        "            eval(act_func_f),\n",
        "            #################\n",
        "            nn.Linear(100, 20),\n",
        "            nn.BatchNorm1d(20),\n",
        "        )\n",
        "        self.fc2 = nn.Sequential(\n",
        "            nn.Dropout(p=dr),\n",
        "            eval(act_func_f),\n",
        "            #################\n",
        "            nn.Linear(20, 2),\n",
        "        )\n",
        "    def forward(self, x):\n",
        "        x = self.fc1(x)\n",
        "        self.hidden_output = x.detach()\n",
        "        return self.fc2(x)"
      ],
      "execution_count": 0,
      "outputs": []
    },
    {
      "cell_type": "code",
      "metadata": {
        "id": "PGdk3qCmomh5",
        "colab_type": "code",
        "colab": {}
      },
      "source": [
        "batch_size   = 6000\n",
        "# Train set + Val set\n",
        "X_train_all      = np.concatenate([X_train, X_val], axis=0)\n",
        "y_train_all      = np.concatenate([y_train, y_val])\n",
        "train_all_set    = HotelDataset(X_train_all, y_train_all)\n",
        "train_all_loader = DataLoader(train_all_set, batch_size=batch_size, shuffle=True)"
      ],
      "execution_count": 0,
      "outputs": []
    },
    {
      "cell_type": "code",
      "metadata": {
        "id": "gAj-IZm8pov0",
        "colab_type": "code",
        "colab": {
          "base_uri": "https://localhost:8080/",
          "height": 1000
        },
        "outputId": "961caca2-088f-430a-8be0-80e4a4f8ff8a"
      },
      "source": [
        "input_dim = train_all_set[0][0].shape[0]\n",
        "model_name = \"final_ann_model_mod\"\n",
        "dr         = 0.260069\n",
        "lr         = 0.00867688\n",
        "\n",
        "model     = Classifier_mod(model_name, input_dim, \"relu\", dr).cuda()\n",
        "loss      = nn.CrossEntropyLoss()\n",
        "optimizer = torch.optim.Adam(model.parameters(), lr)\n",
        "num_epoch = 400\n",
        "train_acc_list, train_loss_list, val_acc_list, val_loss_list, \\\n",
        "    current_best_val_loss, current_that_val_acc, current_that_epoch \\\n",
        "    = trigger_with_early_stopping(train_all_loader, test_loader, model, loss, optimizer, num_epoch, patience=20, save_model=True, delta=0)\n",
        "print(\"Smallest test loss is 【%s】. Corresponding test acc is 【%s】\" % (current_best_val_loss, current_that_val_acc))"
      ],
      "execution_count": 15,
      "outputs": [
        {
          "output_type": "stream",
          "text": [
            "*************************************************************************************\n",
            "[Model: final_ann_model_mod] | [Act_func: relu] | [LR: 0.00867688] | [DR: 0.260069]\n",
            "[001/400] 4.21 sec(s) Train Acc: 0.639595 Loss: 0.608797 | Val Acc: 0.677527 loss: 0.862383\n",
            "[002/400] 2.81 sec(s) Train Acc: 0.813123 Loss: 0.419528 | Val Acc: 0.773222 loss: 0.618097\n",
            "[003/400] 2.63 sec(s) Train Acc: 0.837968 Loss: 0.352179 | Val Acc: 0.833906 loss: 0.356150\n",
            "[004/400] 2.61 sec(s) Train Acc: 0.848187 Loss: 0.330778 | Val Acc: 0.845883 loss: 0.334042\n",
            "[005/400] 2.55 sec(s) Train Acc: 0.854919 Loss: 0.315786 | Val Acc: 0.853254 loss: 0.310083\n",
            "[006/400] 2.58 sec(s) Train Acc: 0.860269 Loss: 0.304391 | Val Acc: 0.857191 loss: 0.304679\n",
            "[007/400] Early-Stopping counter: 1 out of 20\n",
            "[007/400] 2.49 sec(s) Train Acc: 0.861326 Loss: 0.303394 | Val Acc: 0.826409 loss: 0.354081\n",
            "[008/400] 2.46 sec(s) Train Acc: 0.865389 Loss: 0.295350 | Val Acc: 0.863891 loss: 0.295448\n",
            "[009/400] Early-Stopping counter: 1 out of 20\n",
            "[009/400] 2.49 sec(s) Train Acc: 0.867116 Loss: 0.291570 | Val Acc: 0.862635 loss: 0.296744\n",
            "[010/400] Early-Stopping counter: 2 out of 20\n",
            "[010/400] 2.48 sec(s) Train Acc: 0.869629 Loss: 0.286251 | Val Acc: 0.862803 loss: 0.297245\n",
            "[011/400] 2.48 sec(s) Train Acc: 0.873775 Loss: 0.278795 | Val Acc: 0.864562 loss: 0.291872\n",
            "[012/400] Early-Stopping counter: 1 out of 20\n",
            "[012/400] 2.51 sec(s) Train Acc: 0.875387 Loss: 0.276474 | Val Acc: 0.862593 loss: 0.295880\n",
            "[013/400] Early-Stopping counter: 2 out of 20\n",
            "[013/400] 2.42 sec(s) Train Acc: 0.872686 Loss: 0.278622 | Val Acc: 0.856646 loss: 0.299672\n",
            "[014/400] Early-Stopping counter: 3 out of 20\n",
            "[014/400] 2.48 sec(s) Train Acc: 0.874466 Loss: 0.277831 | Val Acc: 0.859703 loss: 0.300038\n",
            "[015/400] 2.53 sec(s) Train Acc: 0.878141 Loss: 0.269437 | Val Acc: 0.867912 loss: 0.288322\n",
            "[016/400] Early-Stopping counter: 1 out of 20\n",
            "[016/400] 2.45 sec(s) Train Acc: 0.880968 Loss: 0.263862 | Val Acc: 0.839099 loss: 0.348877\n",
            "[017/400] Early-Stopping counter: 2 out of 20\n",
            "[017/400] 2.51 sec(s) Train Acc: 0.883345 Loss: 0.259779 | Val Acc: 0.848438 loss: 0.310454\n",
            "[018/400] 2.56 sec(s) Train Acc: 0.882863 Loss: 0.258764 | Val Acc: 0.869587 loss: 0.285207\n",
            "[019/400] Early-Stopping counter: 1 out of 20\n",
            "[019/400] 2.42 sec(s) Train Acc: 0.882769 Loss: 0.257408 | Val Acc: 0.861839 loss: 0.299302\n",
            "[020/400] Early-Stopping counter: 2 out of 20\n",
            "[020/400] 2.52 sec(s) Train Acc: 0.884747 Loss: 0.255244 | Val Acc: 0.861588 loss: 0.305479\n",
            "[021/400] Early-Stopping counter: 3 out of 20\n",
            "[021/400] 2.53 sec(s) Train Acc: 0.887208 Loss: 0.251084 | Val Acc: 0.854510 loss: 0.306671\n",
            "[022/400] 2.51 sec(s) Train Acc: 0.889092 Loss: 0.247334 | Val Acc: 0.867116 loss: 0.285065\n",
            "[023/400] 2.54 sec(s) Train Acc: 0.889092 Loss: 0.246761 | Val Acc: 0.872854 loss: 0.278888\n",
            "[024/400] Early-Stopping counter: 1 out of 20\n",
            "[024/400] 2.44 sec(s) Train Acc: 0.888454 Loss: 0.246095 | Val Acc: 0.868289 loss: 0.288733\n",
            "[025/400] Early-Stopping counter: 2 out of 20\n",
            "[025/400] 2.51 sec(s) Train Acc: 0.892087 Loss: 0.241751 | Val Acc: 0.866697 loss: 0.285490\n",
            "[026/400] Early-Stopping counter: 3 out of 20\n",
            "[026/400] 2.52 sec(s) Train Acc: 0.890925 Loss: 0.242030 | Val Acc: 0.847265 loss: 0.318569\n",
            "[027/400] Early-Stopping counter: 4 out of 20\n",
            "[027/400] 2.43 sec(s) Train Acc: 0.891312 Loss: 0.240623 | Val Acc: 0.867744 loss: 0.281764\n",
            "[028/400] Early-Stopping counter: 5 out of 20\n",
            "[028/400] 2.48 sec(s) Train Acc: 0.892694 Loss: 0.238327 | Val Acc: 0.864562 loss: 0.286404\n",
            "[029/400] Early-Stopping counter: 6 out of 20\n",
            "[029/400] 2.57 sec(s) Train Acc: 0.893574 Loss: 0.236188 | Val Acc: 0.864980 loss: 0.299273\n",
            "[030/400] Early-Stopping counter: 7 out of 20\n",
            "[030/400] 2.45 sec(s) Train Acc: 0.894977 Loss: 0.233617 | Val Acc: 0.849359 loss: 0.344656\n",
            "[031/400] Early-Stopping counter: 8 out of 20\n",
            "[031/400] 2.48 sec(s) Train Acc: 0.893710 Loss: 0.235816 | Val Acc: 0.864687 loss: 0.314121\n",
            "[032/400] Early-Stopping counter: 9 out of 20\n",
            "[032/400] 2.54 sec(s) Train Acc: 0.896118 Loss: 0.231594 | Val Acc: 0.869336 loss: 0.283136\n",
            "[033/400] Early-Stopping counter: 10 out of 20\n",
            "[033/400] 2.46 sec(s) Train Acc: 0.896673 Loss: 0.228900 | Val Acc: 0.850281 loss: 0.328800\n",
            "[034/400] Early-Stopping counter: 11 out of 20\n",
            "[034/400] 2.49 sec(s) Train Acc: 0.895908 Loss: 0.230819 | Val Acc: 0.867451 loss: 0.301681\n",
            "[035/400] Early-Stopping counter: 12 out of 20\n",
            "[035/400] 2.42 sec(s) Train Acc: 0.898809 Loss: 0.228004 | Val Acc: 0.862174 loss: 0.291022\n",
            "[036/400] Early-Stopping counter: 13 out of 20\n",
            "[036/400] 2.52 sec(s) Train Acc: 0.898013 Loss: 0.226719 | Val Acc: 0.867619 loss: 0.289164\n",
            "[037/400] Early-Stopping counter: 14 out of 20\n",
            "[037/400] 2.49 sec(s) Train Acc: 0.899824 Loss: 0.221201 | Val Acc: 0.867870 loss: 0.285845\n",
            "[038/400] Early-Stopping counter: 15 out of 20\n",
            "[038/400] 2.44 sec(s) Train Acc: 0.900222 Loss: 0.221901 | Val Acc: 0.854343 loss: 0.305118\n",
            "[039/400] Early-Stopping counter: 16 out of 20\n",
            "[039/400] 2.49 sec(s) Train Acc: 0.903101 Loss: 0.217162 | Val Acc: 0.867409 loss: 0.304349\n",
            "[040/400] Early-Stopping counter: 17 out of 20\n",
            "[040/400] 2.47 sec(s) Train Acc: 0.903447 Loss: 0.214529 | Val Acc: 0.871723 loss: 0.292457\n",
            "[041/400] Early-Stopping counter: 18 out of 20\n",
            "[041/400] 2.45 sec(s) Train Acc: 0.905750 Loss: 0.212061 | Val Acc: 0.863975 loss: 0.311116\n",
            "[042/400] Early-Stopping counter: 19 out of 20\n",
            "[042/400] 2.53 sec(s) Train Acc: 0.903447 Loss: 0.216095 | Val Acc: 0.849987 loss: 0.347187\n",
            "[043/400] Early-Stopping counter: 20 out of 20\n",
            "[Smallest val loss: 0.2788882777094841] | [Corres val acc: 0.8728536728369211] | [Epoch num: 22]\n",
            "Total time: 109.43 sec(s)\n",
            "*************************************************************************************\n",
            "Smallest test loss is 【0.2788882777094841】. Corresponding test acc is 【0.8728536728369211】\n"
          ],
          "name": "stdout"
        }
      ]
    },
    {
      "cell_type": "code",
      "metadata": {
        "id": "_jpb7PK5q58c",
        "colab_type": "code",
        "outputId": "41f93ad4-8869-4396-bc07-22a779d7565b",
        "colab": {
          "base_uri": "https://localhost:8080/",
          "height": 448
        }
      },
      "source": [
        "print(\"Smallest test loss is 【%s】. Corresponding test acc is 【%s】. Epoch is 【%s】\" % (current_best_val_loss, current_that_val_acc, current_that_epoch))\n",
        "plt.figure(figsize=(15,7))\n",
        "that_epoch = current_that_epoch\n",
        "plt.plot(train_loss_list, label=\"train_loss\");\n",
        "plt.plot(val_loss_list, label=\"val_loss\");\n",
        "plt.plot(that_epoch, train_loss_list[that_epoch], marker='x', color='red', markersize=20)\n",
        "plt.plot(that_epoch, val_loss_list[that_epoch], marker='x', color='red', markersize=20)\n",
        "plt.legend();"
      ],
      "execution_count": 16,
      "outputs": [
        {
          "output_type": "stream",
          "text": [
            "Smallest test loss is 【0.2788882777094841】. Corresponding test acc is 【0.8728536728369211】. Epoch is 【22】\n"
          ],
          "name": "stdout"
        },
        {
          "output_type": "display_data",
          "data": {
            "image/png": "[encoded data removed]",
            "text/plain": [
              "<Figure size 1080x504 with 1 Axes>"
            ]
          },
          "metadata": {
            "tags": [],
            "needs_background": "light"
          }
        }
      ]
    },
    {
      "cell_type": "code",
      "metadata": {
        "id": "aaAM6mP63L0j",
        "colab_type": "code",
        "colab": {}
      },
      "source": [
        "y_test_pred = np.array([])\n",
        "\n",
        "model.eval()\n",
        "with torch.no_grad():\n",
        "    for i, data in enumerate(test_loader):\n",
        "        x = data[0].float()\n",
        "        y = data[1]\n",
        "        pred = model(x.cuda())\n",
        "        pre_label  = np.argmax(pred.cpu().data.numpy(), axis=1)\n",
        "        y_test_pred = np.concatenate([y_test_pred, pre_label])"
      ],
      "execution_count": 0,
      "outputs": []
    },
    {
      "cell_type": "code",
      "metadata": {
        "id": "lwKPxiX2MAOB",
        "colab_type": "code",
        "outputId": "fd214534-d37e-40d4-cee9-bcc9cc99199f",
        "colab": {
          "base_uri": "https://localhost:8080/",
          "height": 172
        }
      },
      "source": [
        "print(classification_report(y_test, y_test_pred))"
      ],
      "execution_count": 0,
      "outputs": [
        {
          "output_type": "stream",
          "text": [
            "              precision    recall  f1-score   support\n",
            "\n",
            "           0       0.88      0.91      0.90     15033\n",
            "           1       0.84      0.79      0.82      8845\n",
            "\n",
            "    accuracy                           0.87     23878\n",
            "   macro avg       0.86      0.85      0.86     23878\n",
            "weighted avg       0.87      0.87      0.87     23878\n",
            "\n"
          ],
          "name": "stdout"
        }
      ]
    },
    {
      "cell_type": "markdown",
      "metadata": {
        "id": "CGkbAUchu1zl",
        "colab_type": "text"
      },
      "source": [
        "### 3.3 Explainable Deep Learning Model"
      ]
    },
    {
      "cell_type": "code",
      "metadata": {
        "id": "dQwAfP2xy8h8",
        "colab_type": "code",
        "colab": {}
      },
      "source": [
        "############ Path Settings ############\n",
        "model_path = '/content/myDrive/My Drive/Hotel_Cancellation/model'\n",
        "#######################################\n",
        "\n",
        "ann_model_mod = Classifier_mod(\"ann_model_mod\", input_dim, \"relu\", dr=0.260069).cuda()\n",
        "ann_model_mod.load_state_dict(torch.load(os.path.join(model_path, \"final_ann_model_mod.pt\")))\n",
        "ann_model_mod = ann_model_mod.cuda()"
      ],
      "execution_count": 0,
      "outputs": []
    },
    {
      "cell_type": "code",
      "metadata": {
        "id": "Ehuiyls8u3OI",
        "colab_type": "code",
        "outputId": "a5bc5971-910d-4651-d568-cc714b4ecb90",
        "colab": {
          "base_uri": "https://localhost:8080/",
          "height": 189
        }
      },
      "source": [
        "ind = 21\n",
        "print(\"************************\")\n",
        "print(\"The [%sth] test instance: %s\" % (ind, X_test_df.values[ind,:]))\n",
        "print(\"************************\")\n",
        "print(\"The true label is [%s]\" % y_test[ind])\n",
        "\n",
        "ann_model_mod.eval()\n",
        "with torch.no_grad():\n",
        "    x = torch.tensor(X_test[ind].reshape(1,-1))\n",
        "    pred = ann_model_mod(x.cuda())\n",
        "    pre_label  = np.argmax(pred.cpu().data.numpy(), axis=1)\n",
        "print(\"************************\")\n",
        "p0 = nn.functional.softmax(pred, dim=1).cpu().numpy()[0][0]\n",
        "p1 = nn.functional.softmax(pred, dim=1).cpu().numpy()[0][1]\n",
        "print(\"Predicted probability distribution: [0] %s, [1] %s\" % (p0, p1))\n",
        "print(\"************************\")\n",
        "print(\"The predicted label is [%s]\" % pre_label[0])\n",
        "print(\"************************\")"
      ],
      "execution_count": 20,
      "outputs": [
        {
          "output_type": "stream",
          "text": [
            "************************\n",
            "The [21th] test instance: ['City Hotel' 283 'July' 31 27 1 1 3 0.0 0 'BB' 'PRT' 'Groups' 'TA/TO' 0 1\n",
            " 0 'A' 'A' 1 'Non Refund' 1.0 nan 0 'Transient-Party' 84.0 0 0]\n",
            "************************\n",
            "The true label is [1]\n",
            "************************\n",
            "Predicted probability distribution: [0] 2.3705148e-05, [1] 0.9999763\n",
            "************************\n",
            "The predicted label is [1]\n",
            "************************\n"
          ],
          "name": "stdout"
        }
      ]
    },
    {
      "cell_type": "code",
      "metadata": {
        "id": "qA97SfceWWMH",
        "colab_type": "code",
        "outputId": "2fab0184-a604-487e-bbec-e6cb5fd766b6",
        "colab": {
          "base_uri": "https://localhost:8080/",
          "height": 516
        }
      },
      "source": [
        "X_test_df.iloc[ind,:]"
      ],
      "execution_count": 21,
      "outputs": [
        {
          "output_type": "execute_result",
          "data": {
            "text/plain": [
              "hotel                                  City Hotel\n",
              "lead_time                                     283\n",
              "arrival_date_month                           July\n",
              "arrival_date_week_number                       31\n",
              "arrival_date_day_of_month                      27\n",
              "stays_in_weekend_nights                         1\n",
              "stays_in_week_nights                            1\n",
              "adults                                          3\n",
              "children                                        0\n",
              "babies                                          0\n",
              "meal                                           BB\n",
              "country                                       PRT\n",
              "market_segment                             Groups\n",
              "distribution_channel                        TA/TO\n",
              "is_repeated_guest                               0\n",
              "previous_cancellations                          1\n",
              "previous_bookings_not_canceled                  0\n",
              "reserved_room_type                              A\n",
              "assigned_room_type                              A\n",
              "booking_changes                                 1\n",
              "deposit_type                           Non Refund\n",
              "agent                                           1\n",
              "company                                       NaN\n",
              "days_in_waiting_list                            0\n",
              "customer_type                     Transient-Party\n",
              "adr                                            84\n",
              "required_car_parking_spaces                     0\n",
              "total_of_special_requests                       0\n",
              "Name: 21, dtype: object"
            ]
          },
          "metadata": {
            "tags": []
          },
          "execution_count": 21
        }
      ]
    },
    {
      "cell_type": "markdown",
      "metadata": {
        "id": "u7HqLN-V56Cx",
        "colab_type": "text"
      },
      "source": [
        "So we want to know, why this model predict this instance as a positive sample——**LIME: Local Interpretable Model-agnostic Explanations**"
      ]
    },
    {
      "cell_type": "code",
      "metadata": {
        "id": "CHXA1tRn-oBm",
        "colab_type": "code",
        "outputId": "e496f510-dd8a-457c-cfec-8e857439da95",
        "colab": {
          "base_uri": "https://localhost:8080/",
          "height": 51
        }
      },
      "source": [
        "# Step 1: Sample nearby\n",
        "samples_nearby = np.zeros((5000, input_dim))\n",
        "rng = np.random.RandomState(0)\n",
        "for i in range(5000):\n",
        "    temp = []\n",
        "    temp.append(rng.choice(range(270,300)))    # lead time \n",
        "    temp.append(rng.choice(range(0,3)))        # stays_in_weekend_nights\n",
        "    temp.append(rng.choice(range(0,3)))        # stays_in_week_nights\n",
        "    temp.append(rng.choice(range(1,5)))        # adults\n",
        "    temp.append(rng.choice(range(0,3)))        # children\n",
        "    temp.append(rng.choice(range(0,3)))        # babies\n",
        "    temp.append(rng.choice(range(0,3)))        # previous_cancellations\n",
        "    temp.append(rng.choice(range(0,3)))        # previous_bookings_not_canceled\n",
        "    temp.append(rng.choice(range(0,3)))        # booking_changes\n",
        "    temp.append(rng.choice(range(0,8)))        # days_in_waiting_list\n",
        "    temp.append(rng.choice(range(70,95)))     # adr\n",
        "    temp.append(rng.choice(range(0,2)))        # required_car_parking_spaces\n",
        "    temp.append(rng.choice(range(0,2)))        # total_of_special_requests\n",
        "    temp += list(X_test[4, len(col_num):])\n",
        "    samples_nearby[i] = temp\n",
        "\n",
        "# Step 2: Get y\n",
        "ann_model_mod.eval()\n",
        "with torch.no_grad():\n",
        "    x    = torch.tensor(samples_nearby).float()\n",
        "    pred = ann_model_mod(x.cuda())\n",
        "    pred_prob = nn.functional.softmax(pred, dim=1) \n",
        "pred_prob = pred_prob.cpu().numpy()\n",
        "y_samples_nearby  = np.argmax(pred_prob, axis=1)\n",
        "print(y_samples_nearby.sum())\n",
        "\n",
        "# Step 3: Fit a linear model and explain it\n",
        "from sklearn.linear_model import LogisticRegression\n",
        "lr = LogisticRegression(max_iter=3000)\n",
        "lr.fit(samples_nearby, y_samples_nearby)\n",
        "print(lr.score(samples_nearby, y_samples_nearby))"
      ],
      "execution_count": 22,
      "outputs": [
        {
          "output_type": "stream",
          "text": [
            "3551\n",
            "0.9954\n"
          ],
          "name": "stdout"
        }
      ]
    },
    {
      "cell_type": "code",
      "metadata": {
        "id": "f1jDdLlYL6rr",
        "colab_type": "code",
        "outputId": "c868c677-800e-458b-c1f3-e14ea2bc02ae",
        "colab": {
          "base_uri": "https://localhost:8080/",
          "height": 241
        }
      },
      "source": [
        "for i,j in enumerate(lr.coef_[0][:13]):\n",
        "    print(\"%s: %s\" % (col_num[i], round(j,2)))"
      ],
      "execution_count": 0,
      "outputs": [
        {
          "output_type": "stream",
          "text": [
            "lead_time: 0.0\n",
            "stays_in_weekend_nights: 0.16\n",
            "stays_in_week_nights: 0.17\n",
            "adults: 0.39\n",
            "children: 0.22\n",
            "babies: 0.8\n",
            "previous_cancellations: 6.31\n",
            "previous_bookings_not_canceled: -0.5\n",
            "booking_changes: -1.01\n",
            "days_in_waiting_list: 0.03\n",
            "adr: 0.03\n",
            "required_car_parking_spaces: -13.9\n",
            "total_of_special_requests: -1.93\n"
          ],
          "name": "stdout"
        }
      ]
    }
  ]
}